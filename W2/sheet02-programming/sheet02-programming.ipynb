{
 "cells": [
  {
   "cell_type": "markdown",
   "metadata": {},
   "source": [
    "<table width='100%'>\n",
    "<tr>\n",
    "<td style='background-color:white'>\n",
    "    <p align=\"left\">\n",
    "    Exercises for the course<br>\n",
    "        <b>Deep Learning 1</b><br>\n",
    "    Winter Semester 2022/23\n",
    "    </p>\n",
    "</td>\n",
    "<td style='background-color:white'>\n",
    "    Machine Learning Group<br>\n",
    "    <b>Faculty IV – Electrical Engineering and Computer Science</b><br>\n",
    "    Technische Universität Berlin\n",
    "</td>\n",
    "</tr>\n",
    "</table>\n",
    "\n",
    "<br>\n",
    "<center>\n",
    "    <h1>Exercise Sheet 1-2 (programming part)</h1>\n",
    "</center>\n",
    "<br>\n",
    "\n",
    "In this homework, our goal is to test different approaches to implement neural networks. Here, we will be focusing on programming forward and backward computations. Training neural networks will be done in the next homework. The neural network we consider is depicted below:\n",
    "\n",
    "![](files/net.svg.png)"
   ]
  },
  {
   "cell_type": "markdown",
   "metadata": {},
   "source": [
    "## Part 1: Implementing of Backpropagation (10 P)\n",
    "\n",
    "The following code implements the forward pass of this network in numpy. Here, you are asked to implement the backward pass, and obtain the gradient with respect to the weight and bias parameters."
   ]
  },
  {
   "cell_type": "code",
   "execution_count": null,
   "metadata": {},
   "outputs": [],
   "source": [
    "import numpy,utils\n",
    "\n",
    "# 1. Get the data and parameters\n",
    "\n",
    "X,T = utils.getdata()\n",
    "W,B = utils.getparams()\n",
    "A = [X]\n",
    "\n",
    "# 2. Run the forward pass\n",
    "\n",
    "for i in range(3): A.append(numpy.maximum(0,A[-1].dot(W[i])+B[i]))\n",
    "Y = A[-1].dot(W[3])+B[3]\n",
    "\n",
    "# 3. Compute the error\n",
    "\n",
    "err = ((Y-T)**2).mean()\n",
    "\n",
    "# 4. Error backpropagation (TODO: replace by your code)\n",
    "import solution\n",
    "DW,DB = solution.exercise1(W,B,A,Y,T)\n",
    "\n",
    "# 5. Show error gradient w.r.t. the 1st weight parameter\n",
    "\n",
    "print(numpy.linalg.norm(DW[0][0,0]))"
   ]
  },
  {
   "cell_type": "markdown",
   "metadata": {},
   "source": [
    "## Part 2: Using Automatic Differentiation (10 P)\n",
    "\n",
    "Because gradient computation can be error-prone, we often rely on libraries that incorporate automatic differentiation. In this exercise, we make use of the PyTorch library. You are then asked to compute the error of the neural network within that framework, which will then be automatically differentiated."
   ]
  },
  {
   "cell_type": "code",
   "execution_count": null,
   "metadata": {},
   "outputs": [],
   "source": [
    "import torch\n",
    "import torch.nn as nn\n",
    "\n",
    "# 1. Get the data and parameters\n",
    "\n",
    "X,T = utils.getdata()\n",
    "W,B = utils.getparams()\n",
    "\n",
    "# 2. Convert to PyTorch objects\n",
    "\n",
    "X = torch.Tensor(X)\n",
    "T = torch.Tensor(T)\n",
    "W = [nn.Parameter(torch.Tensor(w)) for w in W]\n",
    "B = [nn.Parameter(torch.Tensor(b)) for b in B]\n",
    "\n",
    "# 3. Compute the forward pass and the error (TODO: replace by your code)\n",
    "\n",
    "import solution\n",
    "err = solution.exercise2(W,B,X,T)\n",
    "\n",
    "# 4. Apply automatic differentiation\n",
    "\n",
    "err.backward()\n",
    "\n",
    "# 5. Show error gradient w.r.t. the 1st weight parameter\n",
    "\n",
    "print(numpy.linalg.norm(W[0].grad[0,0]))"
   ]
  },
  {
   "cell_type": "markdown",
   "metadata": {},
   "source": [
    "## Part 3: Object-Oriented Implementation (10 P)\n",
    "\n",
    "As a last exercise, we would like to make use of existing neural network objects of the PyTorch library. Here, most of the code is already implemented for you. You are only asked to find where the error gradient of the first weight parameter has been stored, and to print it."
   ]
  },
  {
   "cell_type": "code",
   "execution_count": null,
   "metadata": {},
   "outputs": [],
   "source": [
    "import torch\n",
    "import torch.nn as nn\n",
    "\n",
    "\n",
    "# 1. Get the data and parameters\n",
    "\n",
    "X,T = utils.getdata()\n",
    "W,B = utils.getparams()\n",
    "\n",
    "# 2. Convert to PyTorch objects\n",
    "\n",
    "X = torch.Tensor(X)\n",
    "T = torch.Tensor(T)\n",
    "W = [torch.nn.Parameter(torch.Tensor(w.T)) for w in W]\n",
    "B = [torch.nn.Parameter(torch.Tensor(b)) for b in B]\n",
    "\n",
    "# 3. Build the neural network\n",
    "\n",
    "net = torch.nn.Sequential(\n",
    "          nn.Linear(4,6),nn.ReLU(),\n",
    "          nn.Linear(6,6),nn.ReLU(),\n",
    "          nn.Linear(6,6),nn.ReLU(),\n",
    "          nn.Linear(6,1))\n",
    "\n",
    "for l,w,b in zip(list(net)[::2],W,B):\n",
    "    l.weight = w\n",
    "    l.bias = b\n",
    "    \n",
    "# 4. Compute the forward pass and the error gradient\n",
    "\n",
    "Y = net.forward(X)\n",
    "err = ((Y-T)**2).mean()\n",
    "err.backward()\n",
    "\n",
    "# 5. Show error gradient w.r.t. the 1st weight parameter (TODO: replace by your code)\n",
    "\n",
    "solution.exercise3(net)"
   ]
  }
 ],
 "metadata": {
  "kernelspec": {
   "display_name": "Python 3",
   "language": "python",
   "name": "python3"
  },
  "language_info": {
   "codemirror_mode": {
    "name": "ipython",
    "version": 3
   },
   "file_extension": ".py",
   "mimetype": "text/x-python",
   "name": "python",
   "nbconvert_exporter": "python",
   "pygments_lexer": "ipython3",
   "version": "3.8.10"
  }
 },
 "nbformat": 4,
 "nbformat_minor": 1
}
