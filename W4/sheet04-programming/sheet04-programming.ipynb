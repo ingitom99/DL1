{
 "cells": [
  {
   "cell_type": "markdown",
   "metadata": {},
   "source": [
    "<table width='100%'>\n",
    "<tr>\n",
    "<td style='background-color:white'>\n",
    "    <p align=\"left\">\n",
    "    Exercises for the course<br>\n",
    "        <b>Deep Learning 1</b><br>\n",
    "    Winter Semester 2022/23\n",
    "    </p>\n",
    "</td>\n",
    "<td style='background-color:white'>\n",
    "    Machine Learning Group<br>\n",
    "    <b>Faculty IV – Electrical Engineering and Computer Science</b><br>\n",
    "    Technische Universität Berlin\n",
    "</td>\n",
    "</tr>\n",
    "</table>\n",
    "\n",
    "<br>\n",
    "<center>\n",
    "    <h1>Exercise Sheet 4 (programming part)</h1>\n",
    "</center>\n",
    "<br>\n",
    "\n",
    "In this homework, we will train neural networks on the Boston housing dataset. For this, we will use of the Pytorch library. We will also make use of scikit-learn for the ML baselines. A first part of the homework will analyze the parameters of the network before and after training. A second part of the homework will test some regularization penalties and their effect on the generalization error.\n",
    "\n",
    "## Boston Housing Dataset\n",
    "\n",
    "The following code extracts the Boston housing dataset in a way that is already partitioned into training and test data. The data is normalized such that each dimension has mean 0 and variance 1."
   ]
  },
  {
   "cell_type": "code",
   "execution_count": null,
   "metadata": {},
   "outputs": [],
   "source": [
    "import utils\n",
    "\n",
    "Xtrain,Ttrain,Xtest,Ttest = utils.boston()\n",
    "\n",
    "nx = Xtrain.shape[1]\n",
    "nh = 100"
   ]
  },
  {
   "cell_type": "markdown",
   "metadata": {},
   "source": [
    "## Neural Network Regressor\n",
    "\n",
    "In this homework, we will consider a very simple architecture consisting of one linear layer, a ReLU layer applying a nonlinear function element-wise, and a pooling layer computing a fixed weighted sum of the activations obtained in the previous layer. The architecture is shown below:\n",
    "\n",
    "![Diagram of the Neural Network Regressor used in this homework](neuralnet.png)\n",
    "\n",
    "The class `NeuralNetworkRegressor` implements this network. The function `reg` is a regularizer which we set initially to zero (i.e. no regularizer). Because the dataset is small, the network is optimized in batch mode, using the Adam optimizer. "
   ]
  },
  {
   "cell_type": "code",
   "execution_count": null,
   "metadata": {},
   "outputs": [],
   "source": [
    "import numpy,torch,sklearn,sklearn.metrics\n",
    "from torch import nn,optim\n",
    "\n",
    "class NeuralNetworkRegressor:\n",
    "\n",
    "    def __init__(self):\n",
    "        \n",
    "        torch.manual_seed(0)\n",
    "        \n",
    "        self.model = nn.Sequential(nn.Linear(nx,nh),nn.ReLU())\n",
    "        self.pool  = lambda y: 0.1*(y[:,:nh//2].sum(dim=1)-y[:,nh//2:].sum(dim=1))\n",
    "        self.loss  = nn.MSELoss()\n",
    "\n",
    "    def reg(self): return 0\n",
    "        \n",
    "    def fit(self,X,T,nbit=10000):\n",
    "        \n",
    "        X = torch.Tensor(X)\n",
    "        T = torch.Tensor(T)\n",
    "\n",
    "        optimizer = optim.Adam(self.model.parameters(),lr=0.01)\n",
    "        for _ in range(nbit):\n",
    "            optimizer.zero_grad()\n",
    "            (self.loss(self.pool(self.model(X)),T)+self.reg()).backward()\n",
    "            optimizer.step()\n",
    "                \n",
    "    def predict(self,X):\n",
    "        return self.pool(self.model(torch.Tensor(X)))\n",
    "\n",
    "    def score(self,X,T):\n",
    "        return sklearn.metrics.r2_score(T,numpy.array(self.predict(X).data))"
   ]
  },
  {
   "cell_type": "markdown",
   "metadata": {},
   "source": [
    "### Neural Network Performance vs. Baselines\n",
    "\n",
    "We compare the performance of the neural network on the Boston housing data to two other regressors: a random forest and a support vector regression model with RBF kernel. We use the scikit-learn implementation of these models, with their default parameters."
   ]
  },
  {
   "cell_type": "code",
   "execution_count": null,
   "metadata": {},
   "outputs": [],
   "source": [
    "from sklearn import ensemble,svm\n",
    "\n",
    "rfr = ensemble.RandomForestRegressor(random_state=0)\n",
    "rfr.fit(Xtrain,Ttrain)\n",
    "\n",
    "svr = svm.SVR()\n",
    "svr.fit(Xtrain,Ttrain)\n",
    "\n",
    "nnr = NeuralNetworkRegressor()\n",
    "nnr.fit(Xtrain,Ttrain)"
   ]
  },
  {
   "cell_type": "code",
   "execution_count": null,
   "metadata": {},
   "outputs": [],
   "source": [
    "def pretty(name,model):\n",
    "    return '> %10s | R2train: %6.3f | R2test: %6.3f'%(name,model.score(Xtrain,Ttrain),model.score(Xtest,Ttest))\n",
    "\n",
    "print(pretty('RForest',rfr))\n",
    "print(pretty('SVR',svr))\n",
    "print(pretty('NNreg',nnr))"
   ]
  },
  {
   "cell_type": "markdown",
   "metadata": {},
   "source": [
    "The neural network performs worse than other regression models on test data due to the absence of regularization. We would instead expect a well-regularized neural network to perform better.\n",
    "\n",
    "## Gradient, and Parameter Norms (30 P)\n",
    "\n",
    "As a first step towards improving the neural network model, we will measure proxy quantities, that will then be used to regularize the model. We consider the following three quantities:\n",
    "\n",
    " * $\\|W\\|_\\text{Frob} =  \\sqrt{\\sum_{i=1}^d \\sum_{j=1}^h  w_{ij}^2}$\n",
    " * $\\|W\\|_\\text{Mix} = h^{-0.5} \\sqrt{\\sum_{i=1}^d \\big(\\sum_{j=1}^h | w_{ij}|\\big)^2}$\n",
    " * $\\text{Grad} = \\textstyle \\frac1N \\sum_{n=1}^N\\|\\nabla_{\\boldsymbol{x}}f (\\boldsymbol{x_n})\\|$\n",
    "\n",
    "where $d$ is the number of input features, $h$ is the number of neurons in the hidden layer, and $W$ is the matrix of weights in the first layer (*Note that in PyTorch, the matrix of weights is given in transposed form*). In order for the model to generalize well, the last quantity ($\\text{Grad}$) should be prevented from becoming too large. Because the latter depends on the data distribution, we rely instead on the inequality $\\text{Grad} \\leq \\|W\\|_\\text{Mix} \\leq \\|W\\|_\\text{Frob}$, that we can prove for this model, and will try to control the weight norms instead. The function `Frob(nn)` that computes $\\|W\\|_\\text{Frob}$ is already implemented for you.\n",
    "\n",
    "#### Tasks:\n",
    "\n",
    "* Implement the function `Mix(nn)` that receives the neural network as input and returns $\\|W\\|_\\text{Mix}$.\n",
    "* Implement the function `Grad(nn,X)` that receives the neural network and some dataset as input, and computes the averaged gradient norm ($\\text{Grad}$)."
   ]
  },
  {
   "cell_type": "code",
   "execution_count": null,
   "metadata": {},
   "outputs": [],
   "source": [
    "def Frob(nn):\n",
    "    W = list(nn.model)[0].weight\n",
    "    return (W**2).sum()**.5\n",
    "    \n",
    "def Mix(nn):\n",
    "    # ----------------------------------\n",
    "    # TODO: Replace by your code\n",
    "    # ----------------------------------\n",
    "    import solution; return solution.Mix(nn)\n",
    "    # ----------------------------------\n",
    "    \n",
    "def Grad(nn,X):\n",
    "    # ----------------------------------\n",
    "    # TODO: Replace by your code\n",
    "    # ----------------------------------\n",
    "    import solution; return solution.Grad(nn,X)\n",
    "    # ----------------------------------\n",
    "    "
   ]
  },
  {
   "cell_type": "markdown",
   "metadata": {},
   "source": [
    "The following code measures these three quantities before and after training the model."
   ]
  },
  {
   "cell_type": "code",
   "execution_count": null,
   "metadata": {},
   "outputs": [],
   "source": [
    "def fullpretty(name,nn):\n",
    "    return pretty(name,nn) + ' | WFrob: %7.3f | WMix: %7.3f | Grad: %7.3f'%(Frob(nn),Mix(nn),Grad(nn,Xtest))\n",
    "\n",
    "nnr = NeuralNetworkRegressor()\n",
    "print(fullpretty('Before',nnr))\n",
    "nnr.fit(Xtrain,Ttrain)\n",
    "print(fullpretty('After',nnr))"
   ]
  },
  {
   "cell_type": "markdown",
   "metadata": {},
   "source": [
    "We observe that the inequality $\\text{Grad} \\leq \\|W\\|_\\text{Mix} < \\|W\\|_\\text{Frob}$ also holds empirically. We also observe that these quantities tend to increase as training proceeds. This is a typical behavior, as the network starts rather simple and becomes complex as more and more variations in the training data are being captured."
   ]
  },
  {
   "cell_type": "markdown",
   "metadata": {},
   "source": [
    "## Norm Penalties (20 P)\n",
    "\n",
    "We consider the new objective $J^\\text{Frob}(\\theta) = \\text{MSE}(\\theta) + \\lambda \\cdot \\|W\\|_\\text{Frob}^2$, where the first term is the original mean square error objective and where the second term is the added penalty. We hardcode the penalty coeffecient to $\\lambda = 0.002$. In principle, for maximum performance and fair comparison between the methods, several of them should be tried (also for other models), and selected based on some validation set. Here, for simplicity, we omit this step.\n",
    "\n",
    "A downside of the Frobenius norm is that it is not a very tight upper bound of the gradient, that is, penalizing it is does not penalize specifically high gradient. Instead, other useful properties of the model could be negatively affected by it. Therefore, we also experiment with the mixed-norm regularizer $\\textstyle \\lambda \\cdot \\|W\\|_\\text{Mix}^2$, which is a tighter bound of the gradient, and where we also hardcode the penalty coefficient to $\\lambda = 0.002$.\n",
    "\n",
    "#### Task:\n",
    "\n",
    "* Create two new regressors by reimplementing the regularization function with the Frobenius norm regularizer and Mixed norm regularizer respectively. You may for this task call the norm functions implemented in the question above, but this time you also need to ensure that these functions can be differentiated w.r.t. the weight parameters."
   ]
  },
  {
   "cell_type": "markdown",
   "metadata": {},
   "source": [
    "The code below trains a neural network with the new first layer, and compares the performance with the previous models."
   ]
  },
  {
   "cell_type": "code",
   "execution_count": null,
   "metadata": {},
   "outputs": [],
   "source": [
    "import solution\n",
    "\n",
    "class FrobRegressor(NeuralNetworkRegressor):\n",
    "    \n",
    "    def reg(self):\n",
    "        # ----------------------------------\n",
    "        # TODO: Replace by your code\n",
    "        # ----------------------------------\n",
    "        import solution; return solution.FrobReg(self)\n",
    "        # ----------------------------------\n",
    "    \n",
    "class MixRegressor(NeuralNetworkRegressor):\n",
    "    \n",
    "    def reg(self):\n",
    "        # ----------------------------------\n",
    "        # TODO: Replace by your code\n",
    "        # ----------------------------------\n",
    "        import solution; return solution.MixReg(self)\n",
    "        # ----------------------------------\n",
    "        "
   ]
  },
  {
   "cell_type": "code",
   "execution_count": null,
   "metadata": {},
   "outputs": [],
   "source": [
    "nnfrob = FrobRegressor()\n",
    "nnfrob.fit(Xtrain,Ttrain)\n",
    "\n",
    "nnmix = MixRegressor()\n",
    "nnmix.fit(Xtrain,Ttrain)"
   ]
  },
  {
   "cell_type": "code",
   "execution_count": null,
   "metadata": {},
   "outputs": [],
   "source": [
    "print(pretty('RForest',rfr))\n",
    "print(pretty('SVR',svr))\n",
    "print(fullpretty('NN',nnr))\n",
    "print(fullpretty('NN+Frob',nnfrob))\n",
    "print(fullpretty('NN+Mix',nnmix))"
   ]
  },
  {
   "cell_type": "markdown",
   "metadata": {},
   "source": [
    "It is interesting to observe that this mixed norm penalty more selectively reduced the mixed norm and the gradient, and has let the Frobenius norm take higher values. Here, we observe that the mixed-norm model is also the one that produces the second highest test set accuracy in this benchmark after the random forest."
   ]
  }
 ],
 "metadata": {
  "kernelspec": {
   "display_name": "Python 3",
   "language": "python",
   "name": "python3"
  },
  "language_info": {
   "codemirror_mode": {
    "name": "ipython",
    "version": 3
   },
   "file_extension": ".py",
   "mimetype": "text/x-python",
   "name": "python",
   "nbconvert_exporter": "python",
   "pygments_lexer": "ipython3",
   "version": "3.8.10"
  }
 },
 "nbformat": 4,
 "nbformat_minor": 1
}
